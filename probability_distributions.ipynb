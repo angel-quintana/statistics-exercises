{
 "cells": [
  {
   "cell_type": "markdown",
   "id": "69aa9eb7",
   "metadata": {},
   "source": [
    "For the following problems, use python to simulate the problem and calculate an experimental probability, then compare that to the theoretical probability."
   ]
  },
  {
   "cell_type": "code",
   "execution_count": 5,
   "id": "5a164e49",
   "metadata": {},
   "outputs": [],
   "source": [
    "import matplotlib.pyplot as plt\n",
    "import numpy as np\n",
    "from scipy import stats\n",
    "\n",
    "\n",
    "np.random.seed(123)"
   ]
  },
  {
   "cell_type": "markdown",
   "id": "4a339e2a",
   "metadata": {},
   "source": [
    "# ex1 \n",
    "A bank found that the average number of cars waiting during the noon hour at a drive-up window follows a Poisson distribution with a mean of 2 cars. Make a chart of this distribution and answer these questions concerning the probability of cars waiting at the drive-up window."
   ]
  },
  {
   "cell_type": "code",
   "execution_count": 6,
   "id": "a683daa1",
   "metadata": {},
   "outputs": [
    {
     "data": {
      "text/plain": [
       "0.1353352832366127"
      ]
     },
     "execution_count": 6,
     "metadata": {},
     "output_type": "execute_result"
    }
   ],
   "source": [
    "# What is the probability that no cars drive up in the noon hour?\n",
    "stats.poisson(2).pmf(0)"
   ]
  },
  {
   "cell_type": "code",
   "execution_count": 38,
   "id": "8ce3455f",
   "metadata": {
    "collapsed": true
   },
   "outputs": [
    {
     "data": {
      "text/plain": [
       "Text(0.5, 1.0, 'Prob of num cars in lunch hr window')"
      ]
     },
     "execution_count": 38,
     "metadata": {},
     "output_type": "execute_result"
    },
    {
     "data": {
      "image/png": "[encoded data removed]",
      "text/plain": [
       "<Figure size 640x480 with 1 Axes>"
      ]
     },
     "metadata": {},
     "output_type": "display_data"
    }
   ],
   "source": [
    "cars_dist = stats.poisson(2)\n",
    "xs = range(12)\n",
    "ys = [cars_dist.pmf(x) for x in xs]\n",
    "plt.bar(xs,ys)\n",
    "plt.title('Prob of num cars in lunch hr window')"
   ]
  },
  {
   "cell_type": "code",
   "execution_count": 7,
   "id": "fb0b3e3f",
   "metadata": {},
   "outputs": [
    {
     "data": {
      "text/plain": [
       "0.32332358381693654"
      ]
     },
     "execution_count": 7,
     "metadata": {},
     "output_type": "execute_result"
    }
   ],
   "source": [
    "# What is the probability that 3 or more cars come through the drive through?\n",
    "stats.poisson(2).sf(2)"
   ]
  },
  {
   "cell_type": "code",
   "execution_count": 3,
   "id": "80a68a5a",
   "metadata": {},
   "outputs": [],
   "source": [
    "# How likely is it that the drive through gets at least 1 car?"
   ]
  },
  {
   "cell_type": "code",
   "execution_count": 8,
   "id": "ebbdfb64",
   "metadata": {},
   "outputs": [
    {
     "data": {
      "text/plain": [
       "0.8646647167633873"
      ]
     },
     "execution_count": 8,
     "metadata": {},
     "output_type": "execute_result"
    }
   ],
   "source": [
    "stats.poisson(2).sf(0)"
   ]
  },
  {
   "cell_type": "markdown",
   "id": "983ef5c1",
   "metadata": {},
   "source": [
    "# ex2\n",
    "Grades of State University graduates are normally distributed with a mean of 3.0 and a standard deviation of .3. Calculate the following:"
   ]
  },
  {
   "cell_type": "code",
   "execution_count": 17,
   "id": "58e9ead2",
   "metadata": {},
   "outputs": [
    {
     "name": "stdout",
     "output_type": "stream",
     "text": [
      "3.4934560880854417\n",
      "3.4934560880854417\n"
     ]
    }
   ],
   "source": [
    "# What grade point average is required to be in the top 5% of the graduating class?\n",
    "μ = 3.0 #mean\n",
    "σ = 0.3 #std\n",
    "\n",
    "grades = stats.norm(μ, σ)\n",
    "top_5 = grades.isf(.05)\n",
    "top_5b = grades.ppf(.95)\n",
    "\n",
    "print(top_5)\n",
    "print(top_5b)"
   ]
  },
  {
   "cell_type": "code",
   "execution_count": 19,
   "id": "e0bcce78",
   "metadata": {},
   "outputs": [
    {
     "data": {
      "text/plain": [
       "2.689069983151863"
      ]
     },
     "execution_count": 19,
     "metadata": {},
     "output_type": "execute_result"
    }
   ],
   "source": [
    "# What GPA constitutes the bottom 15% of the class?\n",
    "bottom_15_cutoff = grades.ppf(.15)\n",
    "bottom_15_cutoff"
   ]
  },
  {
   "cell_type": "code",
   "execution_count": 28,
   "id": "c3b02b60",
   "metadata": {},
   "outputs": [
    {
     "name": "stdout",
     "output_type": "stream",
     "text": [
      "2.7475136299281258 to 2.842679846187588\n"
     ]
    }
   ],
   "source": [
    "# An eccentric alumnus left scholarship money for students in the third decile from the bottom of their class.\n",
    "# Determine the range of the third decile.\n",
    "# Would a student with a 2.8 grade point average qualify for this scholarship?\n",
    "bottom_30_cutoff = grades.ppf(.30)\n",
    "bottom_20_cutoff = grades.ppf(.20)\n",
    "print( f'{bottom_20_cutoff} to {bottom_30_cutoff}') #2.8 would fall under this range"
   ]
  },
  {
   "cell_type": "code",
   "execution_count": 37,
   "id": "17a3760e",
   "metadata": {},
   "outputs": [
    {
     "data": {
      "text/plain": [
       "0.9522096477271853"
      ]
     },
     "execution_count": 37,
     "metadata": {},
     "output_type": "execute_result"
    }
   ],
   "source": [
    "# If I have a GPA of 3.5, what percentile am I in?\n",
    "1- grades.sf(3.5) #95 percentile"
   ]
  },
  {
   "cell_type": "markdown",
   "id": "13975a87",
   "metadata": {},
   "source": [
    "# ex 3\n",
    "A marketing website has an average click-through rate of 2%. One day they observe 4326 visitors and 97 click-throughs. How likely is it that this many people or more click through?\n",
    "\n"
   ]
  },
  {
   "cell_type": "code",
   "execution_count": 43,
   "id": "01eb12b6",
   "metadata": {},
   "outputs": [
    {
     "data": {
      "text/plain": [
       "0.13975823631416448"
      ]
     },
     "execution_count": 43,
     "metadata": {},
     "output_type": "execute_result"
    }
   ],
   "source": [
    "clicks_dist = stats.binom(4326, 0.02)\n",
    "clicks_dist.sf(96)"
   ]
  },
  {
   "cell_type": "markdown",
   "id": "c7e24653",
   "metadata": {},
   "source": [
    "# ex 4\n",
    "You are working on some statistics homework consisting of 100 questions where all of the answers are a probability rounded to the hundreths place. Looking to save time, you put down random probabilities as the answer to each question."
   ]
  },
  {
   "cell_type": "code",
   "execution_count": 39,
   "id": "3261216f",
   "metadata": {},
   "outputs": [],
   "source": [
    "# What is the probability that at least one of your first 60 answers is correct?"
   ]
  },
  {
   "cell_type": "markdown",
   "id": "7dac172d",
   "metadata": {},
   "source": [
    "# ex 5\n",
    "The codeup staff tends to get upset when the student break area is not cleaned up. Suppose that there's a 3% chance that any one student cleans the break area when they visit it, and, on any given day, about 90% of the 3 active cohorts of 22 students visit the break area. How likely is it that the break area gets cleaned up each day? How likely is it that it goes two days without getting cleaned up? All week?"
   ]
  },
  {
   "cell_type": "code",
   "execution_count": 48,
   "id": "c7591f2c",
   "metadata": {},
   "outputs": [
    {
     "data": {
      "text/plain": [
       "0.8342199288437352"
      ]
     },
     "execution_count": 48,
     "metadata": {},
     "output_type": "execute_result"
    }
   ],
   "source": [
    "prob_success = 0.03\n",
    "num_trials = int(0.9 * 3 * 22 )\n",
    "cleaning_dist = stats.binom(num_trials, prob_success)\n",
    "cleaning_dist.sf(0)"
   ]
  },
  {
   "cell_type": "markdown",
   "id": "aa72846b",
   "metadata": {},
   "source": [
    "# ex 6\n",
    "You want to get lunch at La Panaderia, but notice that the line is usually very long at lunchtime. After several weeks of careful observation, you notice that the average number of people in line when your lunch break starts is normally distributed with a mean of 15 and standard deviation of 3. If it takes 2 minutes for each person to order, and 10 minutes from ordering to getting your food, what is the likelihood that you have at least 15 minutes left to eat your food before you have to go back to class? Assume you have one hour for lunch, and ignore travel time to and from La Panaderia."
   ]
  },
  {
   "cell_type": "code",
   "execution_count": 49,
   "id": "20355821",
   "metadata": {},
   "outputs": [],
   "source": [
    "μ = 30 #mean 15 people * 2 min\n",
    "σ = 6 #std 3 people * 2 min\n",
    "\n",
    "lunch_time = stats.norm(μ, σ)"
   ]
  },
  {
   "cell_type": "code",
   "execution_count": 50,
   "id": "7dc109c7",
   "metadata": {},
   "outputs": [
    {
     "data": {
      "text/plain": [
       "33"
      ]
     },
     "execution_count": 50,
     "metadata": {},
     "output_type": "execute_result"
    }
   ],
   "source": [
    "my_order = 15+10+2\n",
    "60 - my_order"
   ]
  },
  {
   "cell_type": "code",
   "execution_count": 51,
   "id": "313046dc",
   "metadata": {},
   "outputs": [
    {
     "data": {
      "text/plain": [
       "0.6914624612740131"
      ]
     },
     "execution_count": 51,
     "metadata": {},
     "output_type": "execute_result"
    }
   ],
   "source": [
    "lunch_time.cdf(33)"
   ]
  },
  {
   "cell_type": "markdown",
   "id": "4baf951f",
   "metadata": {},
   "source": [
    "# ex 7\n",
    "Connect to the employees database and find the average salary of current employees, along with the standard deviation. For the following questions, calculate the answer based on modeling the employees salaries with a normal distribution defined by the calculated mean and standard deviation then compare this answer to the actual values present in the salaries dataset."
   ]
  },
  {
   "cell_type": "code",
   "execution_count": 40,
   "id": "86f70563",
   "metadata": {},
   "outputs": [],
   "source": [
    "# What percent of employees earn less than 60,000?\n"
   ]
  },
  {
   "cell_type": "code",
   "execution_count": 41,
   "id": "f8bf65b4",
   "metadata": {},
   "outputs": [],
   "source": [
    "# What percent of employees earn more than 95,000?"
   ]
  },
  {
   "cell_type": "code",
   "execution_count": 42,
   "id": "5ac88a26",
   "metadata": {},
   "outputs": [],
   "source": [
    "# What percent of employees earn between 65,000 and 80,000?"
   ]
  },
  {
   "cell_type": "code",
   "execution_count": null,
   "id": "21183171",
   "metadata": {},
   "outputs": [],
   "source": [
    "# "
   ]
  }
 ],
 "metadata": {
  "kernelspec": {
   "display_name": "Python 3 (ipykernel)",
   "language": "python",
   "name": "python3"
  },
  "language_info": {
   "codemirror_mode": {
    "name": "ipython",
    "version": 3
   },
   "file_extension": ".py",
   "mimetype": "text/x-python",
   "name": "python",
   "nbconvert_exporter": "python",
   "pygments_lexer": "ipython3",
   "version": "3.11.5"
  }
 },
 "nbformat": 4,
 "nbformat_minor": 5
}
