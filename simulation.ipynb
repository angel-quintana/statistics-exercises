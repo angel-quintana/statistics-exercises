{
 "cells": [
  {
   "cell_type": "code",
   "execution_count": 109,
   "id": "5fee2b6f",
   "metadata": {},
   "outputs": [],
   "source": [
    "import numpy as np\n",
    "import pandas as pd\n",
    "from scipy import stats"
   ]
  },
  {
   "cell_type": "code",
   "execution_count": 113,
   "id": "93ce290d",
   "metadata": {},
   "outputs": [],
   "source": [
    "np.random.seed(123)"
   ]
  },
  {
   "cell_type": "code",
   "execution_count": 5,
   "id": "c9e429d7",
   "metadata": {},
   "outputs": [
    {
     "data": {
      "text/plain": [
       "0.16666666666666666"
      ]
     },
     "execution_count": 5,
     "metadata": {},
     "output_type": "execute_result"
    }
   ],
   "source": [
    "# How likely is it that you roll doubles when rolling two dice?\n",
    "outcomes = [1,2,3,4,5,6]\n",
    "n_trials = 1\n",
    "1/6"
   ]
  },
  {
   "cell_type": "code",
   "execution_count": 7,
   "id": "bf829a2c",
   "metadata": {
    "collapsed": true
   },
   "outputs": [
    {
     "data": {
      "text/plain": [
       "array([[1, 1],\n",
       "       [6, 4],\n",
       "       [4, 5],\n",
       "       ...,\n",
       "       [6, 1],\n",
       "       [4, 4],\n",
       "       [6, 2]])"
      ]
     },
     "execution_count": 7,
     "metadata": {},
     "output_type": "execute_result"
    }
   ],
   "source": [
    "n_trials = nrows = 10_000\n",
    "n_dice = ncols = 2\n",
    "\n",
    "rolls = np.random.choice([1, 2, 3, 4, 5, 6], n_trials * n_dice).reshape(nrows, ncols)\n",
    "rolls\n"
   ]
  },
  {
   "cell_type": "code",
   "execution_count": 35,
   "id": "458e3121",
   "metadata": {
    "collapsed": true
   },
   "outputs": [
    {
     "ename": "NameError",
     "evalue": "name 'x' is not defined",
     "output_type": "error",
     "traceback": [
      "\u001b[0;31m---------------------------------------------------------------------------\u001b[0m",
      "\u001b[0;31mNameError\u001b[0m                                 Traceback (most recent call last)",
      "Cell \u001b[0;32mIn[35], line 1\u001b[0m\n\u001b[0;32m----> 1\u001b[0m wins_by_trial \u001b[38;5;241m=\u001b[39m (rolls[x][\u001b[38;5;241m0\u001b[39m] \u001b[38;5;241m==\u001b[39m rolls[x][\u001b[38;5;241m1\u001b[39m])\n",
      "\u001b[0;31mNameError\u001b[0m: name 'x' is not defined"
     ]
    }
   ],
   "source": [
    "wins_by_trial = (rolls[][0] == rolls[][1])"
   ]
  },
  {
   "cell_type": "code",
   "execution_count": 40,
   "id": "780f6448",
   "metadata": {},
   "outputs": [],
   "source": [
    "# If you flip 8 coins, what is the probability of getting exactly 3 heads? \n",
    "# What is the probability of getting more than 3 heads?\n",
    "outcomes = ['H', 'T']\n",
    "n_trials = 8\n",
    "n_sims = 1000\n",
    "eight_flips = np.random.choice(outcomes, (n_sims, n_trials))"
   ]
  },
  {
   "cell_type": "code",
   "execution_count": 41,
   "id": "501c731c",
   "metadata": {
    "collapsed": true
   },
   "outputs": [
    {
     "data": {
      "text/plain": [
       "array([['T', 'T', 'H', 'H', 'H', 'H', 'H', 'H'],\n",
       "       ['H', 'H', 'H', 'H', 'H', 'T', 'H', 'T'],\n",
       "       ['T', 'H', 'T', 'T', 'T', 'H', 'T', 'T'],\n",
       "       ['H', 'T', 'T', 'H', 'T', 'H', 'T', 'T'],\n",
       "       ['T', 'H', 'H', 'T', 'T', 'T', 'T', 'H'],\n",
       "       ['T', 'T', 'T', 'H', 'H', 'T', 'T', 'H'],\n",
       "       ['H', 'H', 'H', 'T', 'T', 'H', 'T', 'H'],\n",
       "       ['T', 'H', 'H', 'H', 'T', 'H', 'H', 'H'],\n",
       "       ['H', 'T', 'H', 'H', 'T', 'H', 'H', 'H'],\n",
       "       ['T', 'H', 'H', 'T', 'T', 'H', 'H', 'T']], dtype='<U1')"
      ]
     },
     "execution_count": 41,
     "metadata": {},
     "output_type": "execute_result"
    }
   ],
   "source": [
    "eight_flips[:10]"
   ]
  },
  {
   "cell_type": "code",
   "execution_count": 45,
   "id": "7a1e20d9",
   "metadata": {
    "collapsed": true
   },
   "outputs": [
    {
     "data": {
      "text/plain": [
       "array([[False, False,  True,  True,  True,  True,  True,  True],\n",
       "       [ True,  True,  True,  True,  True, False,  True, False],\n",
       "       [False,  True, False, False, False,  True, False, False]])"
      ]
     },
     "execution_count": 45,
     "metadata": {},
     "output_type": "execute_result"
    }
   ],
   "source": [
    "(eight_flips == 'H')[:3]"
   ]
  },
  {
   "cell_type": "code",
   "execution_count": 48,
   "id": "99dbaf5f",
   "metadata": {},
   "outputs": [
    {
     "data": {
      "text/plain": [
       "0.211"
      ]
     },
     "execution_count": 48,
     "metadata": {},
     "output_type": "execute_result"
    }
   ],
   "source": [
    "(((eight_flips == 'H').sum(axis=1))==3).mean()"
   ]
  },
  {
   "cell_type": "code",
   "execution_count": 49,
   "id": "5d382b98",
   "metadata": {},
   "outputs": [
    {
     "data": {
      "text/plain": [
       "0.641"
      ]
     },
     "execution_count": 49,
     "metadata": {},
     "output_type": "execute_result"
    }
   ],
   "source": [
    "(((eight_flips == 'H').sum(axis=1))>3).mean()"
   ]
  },
  {
   "cell_type": "code",
   "execution_count": 65,
   "id": "946e600b",
   "metadata": {},
   "outputs": [],
   "source": [
    "# There are approximitely 3 web development cohorts for every 1 data science cohort at Codeup.\n",
    "# Assuming that Codeup randomly selects an alumni to put on a billboard, \n",
    "# what are the odds that the two billboards I drive past both have data science students on them?\n",
    "outcomes = ['DS', 'WD', 'WD', 'WD']\n",
    "n_trials = 2\n",
    "n_sims = 10000\n",
    "two_boards = np.random.choice(outcomes, (n_sims, n_trials))"
   ]
  },
  {
   "cell_type": "code",
   "execution_count": 66,
   "id": "93cb7970",
   "metadata": {},
   "outputs": [
    {
     "data": {
      "text/plain": [
       "array([['DS', 'WD'],\n",
       "       ['WD', 'WD'],\n",
       "       ['WD', 'WD'],\n",
       "       ['DS', 'WD'],\n",
       "       ['WD', 'WD']], dtype='<U2')"
      ]
     },
     "execution_count": 66,
     "metadata": {},
     "output_type": "execute_result"
    }
   ],
   "source": [
    "two_boards[:5]"
   ]
  },
  {
   "cell_type": "code",
   "execution_count": 67,
   "id": "f464a90b",
   "metadata": {},
   "outputs": [
    {
     "data": {
      "text/plain": [
       "0.0615"
      ]
     },
     "execution_count": 67,
     "metadata": {},
     "output_type": "execute_result"
    }
   ],
   "source": [
    "(((two_boards == ['DS']).sum(axis=1))==2).mean()\n"
   ]
  },
  {
   "cell_type": "code",
   "execution_count": 114,
   "id": "0d9eb900",
   "metadata": {},
   "outputs": [
    {
     "data": {
      "text/plain": [
       "0.6065"
      ]
     },
     "execution_count": 114,
     "metadata": {},
     "output_type": "execute_result"
    }
   ],
   "source": [
    "# Codeup students buy, on average, 3 poptart packages with a standard deviation of 1.5 a day from the snack vending machine.\n",
    "# If on monday the machine is restocked with 17 poptart packages,\n",
    "# how likely is it that I will be able to buy some poptarts on Friday afternoon? \n",
    "# (Remember, if you have mean and standard deviation, use the np.random.normal)\n",
    "# You'll need to make a judgement call on how to handle some of your values\n",
    "μ = 3 #mean\n",
    "σ = 1.5 #std\n",
    "nrows=100\n",
    "ncols=2\n",
    "tarts_per_day = stats.norm(μ, σ)\n",
    "tarts_per_day = np.random.normal(μ, σ,size=10000).reshape(-1,5)\n",
    "(tarts_per_day.sum(axis=1)<=16).mean()\n"
   ]
  },
  {
   "cell_type": "code",
   "execution_count": 134,
   "id": "757a9e46",
   "metadata": {},
   "outputs": [],
   "source": [
    "# compare heights\n",
    "# Men have an average height of 178 cm and standard deviation of 8cm.\n",
    "# Women have a mean of 170, sd = 6cm.\n",
    "# Since you have means and standard deviations, you can use np.random.normal to generate observations.\n",
    "# If a man and woman are chosen at random, what is the likelihood the woman is taller than the man?\n",
    "μ1 = 178\n",
    "σ1 = 8 #std\n",
    "\n",
    "μ2 = 170 #mean\n",
    "σ2 = 6 #std\n",
    "nrows=10000\n",
    "male_samples = np.random.normal(μ1 , σ1, nrows).reshape(-1,1)\n",
    "female_samples = np.random.normal(μ2, σ2, nrows).reshape(-1,1)"
   ]
  },
  {
   "cell_type": "code",
   "execution_count": 135,
   "id": "014587a0",
   "metadata": {},
   "outputs": [
    {
     "data": {
      "text/plain": [
       "array([[178.4056179 ],\n",
       "       [173.31773363],\n",
       "       [167.68223086],\n",
       "       [180.99673914],\n",
       "       [190.08217118],\n",
       "       [169.90917825],\n",
       "       [175.95208061],\n",
       "       [188.25819482],\n",
       "       [178.42928576],\n",
       "       [187.30809874]])"
      ]
     },
     "execution_count": 135,
     "metadata": {},
     "output_type": "execute_result"
    }
   ],
   "source": [
    "male_samples[:10]"
   ]
  },
  {
   "cell_type": "code",
   "execution_count": 136,
   "id": "34a48cfa",
   "metadata": {},
   "outputs": [
    {
     "data": {
      "text/plain": [
       "array([[161.60277088],\n",
       "       [177.84917489],\n",
       "       [168.9220938 ],\n",
       "       [166.79718947],\n",
       "       [175.91923366],\n",
       "       [165.02076661],\n",
       "       [158.28401993],\n",
       "       [163.89684322],\n",
       "       [174.52265172],\n",
       "       [169.33737041]])"
      ]
     },
     "execution_count": 136,
     "metadata": {},
     "output_type": "execute_result"
    }
   ],
   "source": [
    "female_samples[:10]"
   ]
  },
  {
   "cell_type": "code",
   "execution_count": 137,
   "id": "ac5657b2",
   "metadata": {},
   "outputs": [
    {
     "data": {
      "text/plain": [
       "0.2126"
      ]
     },
     "execution_count": 137,
     "metadata": {},
     "output_type": "execute_result"
    }
   ],
   "source": [
    "(female_samples>male_samples).mean()"
   ]
  },
  {
   "cell_type": "code",
   "execution_count": null,
   "id": "c3675fa9",
   "metadata": {},
   "outputs": [],
   "source": []
  }
 ],
 "metadata": {
  "kernelspec": {
   "display_name": "Python 3 (ipykernel)",
   "language": "python",
   "name": "python3"
  },
  "language_info": {
   "codemirror_mode": {
    "name": "ipython",
    "version": 3
   },
   "file_extension": ".py",
   "mimetype": "text/x-python",
   "name": "python",
   "nbconvert_exporter": "python",
   "pygments_lexer": "ipython3",
   "version": "3.11.5"
  }
 },
 "nbformat": 4,
 "nbformat_minor": 5
}
